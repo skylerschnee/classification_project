{
 "cells": [
  {
   "cell_type": "markdown",
   "id": "1fa2c99d",
   "metadata": {},
   "source": [
    "# Telco Churn"
   ]
  },
  {
   "cell_type": "markdown",
   "id": "efb655ba",
   "metadata": {},
   "source": [
    "# Project Description\n",
    " \n",
    "Customer retention is arguably the most important aspect of a long lasting, profitable business. Considering the massive proportion of gross profit business' spend on new customer aquisition, we can easily understand the value of retaining these customers. This begs the literal million dollar question- why have our customers left? And what actionable information can we draw from a scientific approach to analyzing our customer data? We will be exploring that in this project."
   ]
  },
  {
   "cell_type": "markdown",
   "id": "2213196c",
   "metadata": {},
   "source": [
    "# Project Goal\n",
    " \n",
    "* Discover drivers of customer church at Telco.\n",
    "* Use drivers to develop a machine learning model that accurately predicts churn. \n",
    "* This information could be used to further our understanding of which drivers have the most effect on churn."
   ]
  },
  {
   "cell_type": "markdown",
   "id": "12c15323",
   "metadata": {},
   "source": [
    "# Initial Thoughts\n",
    " \n",
    "My initial hypothesis is that specific categorical features of customers are the driving factor of churn."
   ]
  },
  {
   "cell_type": "markdown",
   "id": "206449d5",
   "metadata": {},
   "source": [
    "# The Plan\n",
    " \n",
    "* Aquire data from Code Up Database\n",
    " \n",
    "* Prepare data\n",
    "   * Create Engineered columns from existing data\n",
    "       * churn\n",
    "       * senior_citizen\n",
    "       * tech_support\n",
    "       * payment_type_id\n",
    "       * monthly_charges\n",
    "       * total_charges\n",
    "      \n",
    "* Explore data in search of drivers of churn\n",
    "   * Answer the following initial questions\n",
    "       * How often do senior citizens churn?\n",
    "       * Does contacting support influence senior citizen churn?\n",
    "       * Does the way customers pay influence churn?\n",
    "       * Does the total charges or monthly charges have a larger impact on churn?\n",
    "\n",
    "* Develop a Model to predict if a customer is likely to churn\n",
    "   * Use drivers identified in explore to build predictive models of different types\n",
    "   * Evaluate models on train and validate data\n",
    "   * Select the best model based on highest accuracy\n",
    "   * Evaluate the best model on test data\n",
    " \n",
    "* Draw conclusions"
   ]
  },
  {
   "cell_type": "code",
   "execution_count": null,
   "id": "b7674d07",
   "metadata": {},
   "outputs": [],
   "source": [
    "gender\tsenior_citizen\tpartner\tdependents\ttenure\tphone_service\tmultiple_lines\tinternet_service_type_id\tonline_security\tonline_backup\tdevice_protection\ttech_support\tstreaming_tv\tstreaming_movies\tcontract_type_id\tpaperless_billing\tpayment_type_id\tmonthly_charges\ttotal_charges\tchurn\n",
    "\n",
    "\n",
    "\n",
    "\n",
    "\n",
    "\n"
   ]
  },
  {
   "cell_type": "markdown",
   "id": "09eb0b70",
   "metadata": {},
   "source": [
    "# Data Dictionary\n",
    "\n",
    "| Feature | Definition |\n",
    "|:--------|:-----------|\n",
    "|Gender| The gender of the primary account holder|\n",
    "|Senior Citizen| True or False, is the primary account holder 62 years or age or older|\n",
    "|Partner| Yes or No, does the primary account holder have a partner in the household|\n",
    "|Dependants| Yes or No, does the primary account holder have at least 1 dependent in the household|\n",
    "|Tenure| The time in years the primary account holder has been a customer|\n",
    "|Phone Service| Yes or No, does the primary account holder have phone service with Telco|\n",
    "|Multiple Lines| Yes or No, does the primary account holder have multiple lines with Telco|\n",
    "|Internet Service Type ID|  **1** (DSL), **2** (Fiber Optic), **3** (None)\n",
    "|Tech Support| Yes or No, Has the client contacted tech support|\n",
    "|Contract Type ID|  **1** (Month-to-Month), **2** (One-Year), **3** (Two-Year)|\n",
    "|Payment Type ID| **1** (Electronic Check), **2** (Mailed Check), **3** (Automatic Bank Transfer), **4** (Credit Card)|\n",
    "|Monthly Charges| Monthly bill assesed to the cusotmer|\n",
    "|Total Charges| Total revenue paid by the cusotmer|\n",
    "|Churn| Yes or No, has the customer stopped doing business with us|"
   ]
  },
  {
   "cell_type": "markdown",
   "id": "d3f2eba3",
   "metadata": {},
   "source": [
    "# Steps to Reproduce\n",
    "1) Clone this repo.\n",
    "2) Acquire the data from [Kaggle](https://www.kaggle.com/datasets/blastchar/telco-customer-churn)\n",
    "3) Put the data in the file containing the cloned repo.\n",
    "4) Run notebook."
   ]
  },
  {
   "cell_type": "markdown",
   "id": "57abd559",
   "metadata": {},
   "source": [
    "\n",
    "# Takeaways and Conclusions\n",
    "* Upsets occur in 1/3 of games\n",
    "* In games where the lower rated player moves first there is a 4% greater chance of an upset\n",
    "* Games that are rated have a 3% higher chance of an upset\n",
    "* Games with a \"quick\" time control (30 min or less) have about a 1 in 3 chance of upset\n",
    "* Games with a \"slow\" time control (60 min or more) have about a 1 in 5 chance of upset\n",
    "* The mean rating of players in a game is not a driver of upsets\n",
    "* The difference in player rating is a driver of upsets\n",
    "* A player's choice of opening is a driver of upsets, however its influence is complicated and I would need more time to discover what role it plays"
   ]
  },
  {
   "cell_type": "markdown",
   "id": "c4bbf408",
   "metadata": {},
   "source": [
    "# Recommendations\n",
    "* To increase the skill intensity of a game add to the length of time players are able to consider their moves\n",
    "* Based on the data longer time controls make it less likely for a less skilled player to beat a more skilled player"
   ]
  },
  {
   "cell_type": "markdown",
   "id": "8d8681cc",
   "metadata": {},
   "source": []
  }
 ],
 "metadata": {
  "kernelspec": {
   "display_name": "Python 3 (ipykernel)",
   "language": "python",
   "name": "python3"
  },
  "language_info": {
   "codemirror_mode": {
    "name": "ipython",
    "version": 3
   },
   "file_extension": ".py",
   "mimetype": "text/x-python",
   "name": "python",
   "nbconvert_exporter": "python",
   "pygments_lexer": "ipython3",
   "version": "3.9.13"
  }
 },
 "nbformat": 4,
 "nbformat_minor": 5
}
