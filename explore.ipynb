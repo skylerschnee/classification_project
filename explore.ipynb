{
 "cells": [
  {
   "cell_type": "code",
   "execution_count": 204,
   "id": "31a81177",
   "metadata": {},
   "outputs": [],
   "source": [
    "train = pd.read_csv('telco_churn_prepared.csv')"
   ]
  },
  {
   "cell_type": "code",
   "execution_count": 193,
   "id": "b012c532",
   "metadata": {},
   "outputs": [],
   "source": [
    "import matplotlib.pyplot as plt\n",
    "import seaborn as sns\n",
    "import pandas as pd\n",
    "from scipy import stats\n",
    "\n",
    "################# Visuals #####################\n",
    "\n",
    "def get_pie_churn(train):\n",
    "    'get pie chart for percent of customer churn'\n",
    "    \n",
    "    # set parameters\n",
    "    x = [len(train.churn[df.churn == 'Yes']), len(train.churn[df.churn == 'No'])] \n",
    "    y = ['Churn','Retained'] \n",
    "    \n",
    "    # generate and show chart\n",
    "    plt.pie(x, labels=y, autopct='%.0f%%', colors=['red', 'green'])\n",
    "    plt.title('27% of Telco Customers Have Churned')\n",
    "    plt.show()\n",
    "    \n",
    "def get_pie_sen_churn(train):\n",
    "    # identify counts of churned customers, senior and non senior\n",
    "    non_senior_churn_count = len(train[(train['churn'] == 'Yes') & (train['senior_citizen'] == 0)])\n",
    "    senior_churn_count = len(train[(train['churn'] == 'Yes') & (train['senior_citizen'] == 1)])\n",
    "\n",
    "    # Pie chart, where the slices will be ordered and plotted counter-clockwise:\n",
    "    labels = 'Non-Senior Churn', 'Senior Churn'\n",
    "    sizes = [non_senior_churn_count, senior_churn_count]\n",
    "    explode = (0, 0.1)  # only explode the senior slice \n",
    "\n",
    "    fig1, ax1 = plt.subplots()\n",
    "    ax1.pie(sizes, explode=explode, labels=labels, autopct='%1.1f%%',\n",
    "            shadow=True, startangle=90, colors=['lightblue', 'yellow'])\n",
    "    ax1.axis('equal')  # Equal aspect ratio ensures that pie is drawn as a circle.\n",
    "    plt.title('Seniors are Over 25% of the Churned Customer Population')\n",
    "    plt.show()\n",
    "    \n",
    "def get_pie_sen_compared(train):\n",
    "    '''returns pie charts visualizing the percentage of senior citizens compared\n",
    "    to the rest of the population, and the percentage of churned senior citizens\n",
    "    compared to the rest of the population'''\n",
    "    \n",
    "    non_senior_cust_count = len(train[(train['senior_citizen'] == 0)])\n",
    "    senior_cust_count = len(train[(train['senior_citizen'] == 1)])\n",
    "    \n",
    "    non_senior_churn_count = len(train[(train['churn'] == 'Yes') & (train['senior_citizen'] == 0)])\n",
    "    senior_churn_count = len(train[(train['churn'] == 'Yes') & (train['senior_citizen'] == 1)])\n",
    "    \n",
    "    # create objects and size the figure\n",
    "    fig, (ax1,ax2) = plt.subplots(1,2,figsize=(11,11))\n",
    "\n",
    "    # generate pie chart and assign it to ax1\n",
    "    labels1 = 'Non-Senior Customers', 'Senior Customers'\n",
    "    sizes1 = [non_senior_cust_count, senior_cust_count]\n",
    "    explode1 = (0, 0.1)  # only explode the senior slice \n",
    "\n",
    "    ax1.pie(sizes1, explode=explode1, labels=labels1, autopct='%1.1f%%',\n",
    "        shadow=True, startangle=90, colors=['lightblue', 'yellow'])\n",
    "    ax1.axis('equal')  # Equal aspect ratio ensures that pie is drawn as a circle.\n",
    "    ax1.title.set_text('Seniors are Roughly 16% of the Customer Population')\n",
    "\n",
    "    # generate pie chart and assign it to ax2\n",
    "    labels2 = 'Non-Senior Churn', 'Senior Churn'\n",
    "    sizes2 = [non_senior_churn_count, senior_churn_count]\n",
    "    explode2 = (0, 0.1)  # only explode the senior slice  \n",
    "\n",
    "    ax2.pie(sizes2, explode=explode2, labels=labels2, autopct='%1.1f%%',\n",
    "        shadow=True, startangle=90, colors=['lightblue', 'yellow'])\n",
    "    ax2.axis('equal')  # Equal aspect ratio ensures that pie is drawn as a circle.\n",
    "    ax2.title.set_text('Seniors are Over 25% of the Churned Customer Population')\n",
    "\n",
    "\n",
    "    # display and format plot for a clean fit\n",
    "    plt.tight_layout(pad=2, rect=(0, 0, 1, .6))\n",
    "    plt.show()"
   ]
  },
  {
   "cell_type": "code",
   "execution_count": null,
   "id": "5c8e6838",
   "metadata": {},
   "outputs": [],
   "source": []
  },
  {
   "cell_type": "code",
   "execution_count": null,
   "id": "5e74af85",
   "metadata": {},
   "outputs": [],
   "source": [
    "plt.rcdefaults()\n",
    "fig, ax = plt.subplots()\n",
    "\n",
    "# Example data\n",
    "people = ('Tom', 'Dick', 'Harry', 'Slim', 'Jim')\n",
    "y_pos = np.arange(len(people))\n",
    "performance = 3 + 10 * np.random.rand(len(people))\n",
    "error = np.random.rand(len(people))\n",
    "\n",
    "ax.barh(y_pos, performance, xerr=error, align='center')\n",
    "ax.set_yticks(y_pos)\n",
    "ax.set_yticklabels(people)\n",
    "ax.invert_yaxis()  # labels read top-to-bottom\n",
    "ax.set_xlabel('Performance')\n",
    "ax.set_title('How fast do you want to go today?')\n",
    "\n",
    "plt.show()"
   ]
  },
  {
   "cell_type": "code",
   "execution_count": 78,
   "id": "5b93ad26",
   "metadata": {},
   "outputs": [],
   "source": []
  },
  {
   "cell_type": "code",
   "execution_count": null,
   "id": "eb39fd88",
   "metadata": {},
   "outputs": [],
   "source": [
    "senior_churn_count = mean(train[(train['month_charges'] ) & (train['senior_citizen'] == 1)])"
   ]
  },
  {
   "cell_type": "code",
   "execution_count": null,
   "id": "c0c2bec9",
   "metadata": {},
   "outputs": [],
   "source": [
    "non_senior_churn_count = len(train[(train['churn'] == 'Yes') & (train['senior_citizen'] == 0)])"
   ]
  },
  {
   "cell_type": "code",
   "execution_count": null,
   "id": "c5aa810d",
   "metadata": {},
   "outputs": [],
   "source": []
  },
  {
   "cell_type": "code",
   "execution_count": null,
   "id": "2352f495",
   "metadata": {},
   "outputs": [],
   "source": [
    "# Im trying to compare avg monthly charges of non seniors to seniors "
   ]
  },
  {
   "cell_type": "code",
   "execution_count": 198,
   "id": "8f5eb84c",
   "metadata": {},
   "outputs": [
    {
     "data": {
      "text/plain": [
       "64.7616924605992"
      ]
     },
     "execution_count": 198,
     "metadata": {},
     "output_type": "execute_result"
    }
   ],
   "source": [
    "avg_mon_charges = train['monthly_charges'].mean()"
   ]
  },
  {
   "cell_type": "code",
   "execution_count": 211,
   "id": "cc571c3f",
   "metadata": {},
   "outputs": [
    {
     "data": {
      "text/plain": [
       "nan"
      ]
     },
     "execution_count": 211,
     "metadata": {},
     "output_type": "execute_result"
    }
   ],
   "source": [
    "df.loc[df['senior_citizen'] == 'yes', 'monthly_charges'].mean()"
   ]
  },
  {
   "cell_type": "code",
   "execution_count": 219,
   "id": "e7f2af1f",
   "metadata": {},
   "outputs": [
    {
     "data": {
      "text/plain": [
       "False    7043\n",
       "Name: monthly_charges, dtype: int64"
      ]
     },
     "execution_count": 219,
     "metadata": {},
     "output_type": "execute_result"
    }
   ],
   "source": [
    "train.monthly_charges.isna().value_counts()"
   ]
  },
  {
   "cell_type": "code",
   "execution_count": 221,
   "id": "e1f7660e",
   "metadata": {},
   "outputs": [
    {
     "data": {
      "text/plain": [
       "nan"
      ]
     },
     "execution_count": 221,
     "metadata": {},
     "output_type": "execute_result"
    }
   ],
   "source": [
    "train.loc[train['senior_citizen'] == 'yes', 'monthly_charges'].mean()"
   ]
  },
  {
   "cell_type": "code",
   "execution_count": null,
   "id": "30a24ccf",
   "metadata": {},
   "outputs": [],
   "source": []
  }
 ],
 "metadata": {
  "kernelspec": {
   "display_name": "Python 3 (ipykernel)",
   "language": "python",
   "name": "python3"
  },
  "language_info": {
   "codemirror_mode": {
    "name": "ipython",
    "version": 3
   },
   "file_extension": ".py",
   "mimetype": "text/x-python",
   "name": "python",
   "nbconvert_exporter": "python",
   "pygments_lexer": "ipython3",
   "version": "3.9.13"
  }
 },
 "nbformat": 4,
 "nbformat_minor": 5
}
